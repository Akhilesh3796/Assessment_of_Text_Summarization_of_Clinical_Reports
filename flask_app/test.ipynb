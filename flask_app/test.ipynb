{
 "cells": [
  {
   "cell_type": "code",
   "execution_count": 7,
   "metadata": {},
   "outputs": [
    {
     "name": "stdout",
     "output_type": "stream",
     "text": [
      "0.42906931042671204\n"
     ]
    }
   ],
   "source": [
    "from transformers import AutoTokenizer, AutoModel\n",
    "\n",
    "# Load the BioBERT model and tokenizer\n",
    "model_name = \"dmis-lab/biobert-v1.1\"\n",
    "tokenizer = AutoTokenizer.from_pretrained(model_name)\n",
    "model = AutoModel.from_pretrained(model_name)\n",
    "import torch\n",
    "\n",
    "def calculate_similarity(text1, text2):\n",
    "    # Tokenize the input texts\n",
    "    inputs = tokenizer(text1, text2, padding=True, truncation=True, return_tensors=\"pt\")\n",
    "\n",
    "    # Pass the input through the BioBERT model\n",
    "    outputs = model(**inputs)\n",
    "\n",
    "    # Extract the embeddings from the model outputs\n",
    "    embeddings = outputs.last_hidden_state.squeeze(0)  # Squeeze the batch dimension\n",
    "\n",
    "    # Calculate the cosine similarity between the embeddings\n",
    "    similarity = torch.nn.functional.cosine_similarity(embeddings[0], embeddings[1], dim=0)\n",
    "\n",
    "    return similarity.item()\n",
    "\n",
    "\n",
    "# Define the texts to compare\n",
    "text1 = \"Patient with diabetes and hypertension.\"\n",
    "text2 = \"Individual diagnosed with high blood pressure and diabetes mellitus.\"\n",
    "\n",
    "print(calculate_similarity(text1, text2))\n"
   ]
  }
 ],
 "metadata": {
  "kernelspec": {
   "display_name": "base",
   "language": "python",
   "name": "python3"
  },
  "language_info": {
   "codemirror_mode": {
    "name": "ipython",
    "version": 3
   },
   "file_extension": ".py",
   "mimetype": "text/x-python",
   "name": "python",
   "nbconvert_exporter": "python",
   "pygments_lexer": "ipython3",
   "version": "3.10.12"
  },
  "orig_nbformat": 4
 },
 "nbformat": 4,
 "nbformat_minor": 2
}
