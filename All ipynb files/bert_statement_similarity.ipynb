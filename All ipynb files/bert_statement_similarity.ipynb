{
 "cells": [
  {
   "cell_type": "code",
   "execution_count": 1,
   "metadata": {},
   "outputs": [],
   "source": [
    "from transformers import AutoTokenizer, AutoModel\n",
    "\n",
    "# Load the BioBERT model and tokenizer\n",
    "model_name = \"dmis-lab/biobert-v1.1\"\n",
    "tokenizer = AutoTokenizer.from_pretrained(model_name)\n",
    "model = AutoModel.from_pretrained(model_name)\n"
   ]
  },
  {
   "cell_type": "code",
   "execution_count": 7,
   "metadata": {},
   "outputs": [],
   "source": [
    "import torch\n",
    "\n",
    "def calculate_similarity(text1, text2):\n",
    "    # Tokenize the input texts\n",
    "    inputs = tokenizer(text1, text2, padding=True, truncation=True, return_tensors=\"pt\")\n",
    "\n",
    "    # Pass the input through the BioBERT model\n",
    "    outputs = model(**inputs)\n",
    "\n",
    "    # Extract the embeddings from the model outputs\n",
    "    embeddings = outputs.last_hidden_state.squeeze(0)  # Squeeze the batch dimension\n",
    "\n",
    "    # Calculate the cosine similarity between the embeddings\n",
    "    similarity = torch.nn.functional.cosine_similarity(embeddings[0], embeddings[1], dim=0)\n",
    "\n",
    "    return similarity.item()\n"
   ]
  },
  {
   "cell_type": "code",
   "execution_count": 19,
   "metadata": {},
   "outputs": [],
   "source": [
    "import pandas as pd\n",
    "\n",
    "def calculate_similarity_csv(csv_file, column1, column2):\n",
    "    # Read the CSV file into a DataFrame\n",
    "    df = pd.read_csv(csv_file)\n",
    "    df=df.drop(columns=\"rogue_score\")\n",
    "    # Select the specified columns for similarity calculation\n",
    "    text_data1 = df[column1].tolist()\n",
    "    text_data2 = df[column2].tolist()\n",
    "\n",
    "    # Calculate similarity for each pair of texts\n",
    "    similarities = []\n",
    "    for text1, text2 in zip(text_data1, text_data2):\n",
    "        similarity = calculate_similarity(text1, text2)\n",
    "        similarities.append(similarity)\n",
    "\n",
    "    # Add the similarities to the DataFrame\n",
    "    df['similarity'] = similarities\n",
    "\n",
    "    return df\n"
   ]
  },
  {
   "cell_type": "code",
   "execution_count": 20,
   "metadata": {},
   "outputs": [],
   "source": [
    "csv_file = 'D:/Thesis/Processed Data/GPT-test-summary.csv'\n",
    "column1 = 'Statement'\n",
    "column2 = 'summary'\n"
   ]
  },
  {
   "cell_type": "code",
   "execution_count": 22,
   "metadata": {},
   "outputs": [],
   "source": [
    "# Calculate similarity for the CSV file\n",
    "similarity_df = calculate_similarity_csv(csv_file, column1, column2)\n",
    "\n",
    "# Save the updated DataFrame to a new CSV file\n",
    "output_csv = 'D:/Thesis/Processed Data/test-summary-similarity-bert.csv'\n",
    "similarity_df.to_csv(output_csv, index=False)\n"
   ]
  }
 ],
 "metadata": {
  "kernelspec": {
   "display_name": "tf",
   "language": "python",
   "name": "python3"
  },
  "language_info": {
   "codemirror_mode": {
    "name": "ipython",
    "version": 3
   },
   "file_extension": ".py",
   "mimetype": "text/x-python",
   "name": "python",
   "nbconvert_exporter": "python",
   "pygments_lexer": "ipython3",
   "version": "3.10.12"
  },
  "orig_nbformat": 4
 },
 "nbformat": 4,
 "nbformat_minor": 2
}
