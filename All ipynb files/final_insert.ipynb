{
 "cells": [
  {
   "cell_type": "code",
   "execution_count": 2,
   "metadata": {},
   "outputs": [],
   "source": [
    "import pandas as pd\n",
    "\n",
    "# Load data from the CSV file\n",
    "df = pd.read_csv('c:/Users/akhil/OneDrive/Desktop/result.csv')  # Replace 'result.csv' with your actual file name\n",
    "\n",
    "# Replace \"section_id\" with the actual column name you have\n",
    "\n",
    "# Extract the starting word from the \"section_id\" column\n",
    "df['section_id_start'] = df['Section_id'].str.split().str[0]\n",
    "\n",
    "# Columns to compare with \"section_id_start\"\n",
    "columns_to_compare = ['PRIMARY_INTERVENTION', 'PRIMARY_ELIGIBILITY', 'PRIMARY_RESULTS',\n",
    "                      'PRIMARY_ADVERSE_EVENTS', 'SECONDARY_INTERVENTION', 'SECONDARY_ELIGIBILITY',\n",
    "                      'SECONDARY_RESULTS', 'SECONDARY_ADVERSE_EVENTS']\n",
    "\n",
    "# Loop through the columns and check if the starting word matches\n",
    "for column in columns_to_compare:\n",
    "    mask = df['section_id_start'] != df[column].str.split().str[0]\n",
    "    df.loc[mask, column] = None\n",
    "\n",
    "# Remove the temporary column used for comparison\n",
    "df.drop('section_id_start', axis=1, inplace=True)\n",
    "\n",
    "df.to_csv('c:/Users/akhil/OneDrive/Desktop/updated_result.csv', index=False)\n"
   ]
  },
  {
   "cell_type": "code",
   "execution_count": 10,
   "metadata": {},
   "outputs": [],
   "source": [
    "#insert all the combined data in combine_data table\n",
    "import csv\n",
    "import mysql.connector\n",
    "\n",
    "# Establish a MySQL connection\n",
    "connection = mysql.connector.connect(\n",
    "    host='localhost',\n",
    "    user='root',\n",
    "    password='root',\n",
    "    database = 'clinical_data'\n",
    ")\n",
    "\n",
    "connection.database = 'clinical_data'\n",
    "csv_file_path = \"C:/Users/akhil/OneDrive/Desktop/updated_result.csv\"\n",
    "\n",
    "with open(csv_file_path, 'r', encoding='utf-8') as file:\n",
    "    csv_data = csv.reader(file)\n",
    "    header = next(csv_data)\n",
    "\n",
    "    create_table_query = \"CREATE TABLE final_combine (\"\n",
    "    for column_name in header:\n",
    "        create_table_query += f\"`{column_name}` TEXT, \"\n",
    "    create_table_query = create_table_query[:-2]  # Remove the trailing comma and space\n",
    "    create_table_query += \")\"\n",
    "\n",
    "    cursor = connection.cursor()\n",
    "    cursor.execute(\"DROP TABLE IF EXISTS final_combine\")\n",
    "    cursor.execute(create_table_query)\n",
    "\n",
    "    insert_query = f\"INSERT INTO final_combine ({', '.join(['`'+col+'`' for col in header])}) VALUES ({', '.join(['%s'] * len(header))})\"\n",
    "\n",
    "    for row in csv_data:\n",
    "        cursor.execute(insert_query, row)\n",
    "\n",
    "    # Commit the changes to the database\n",
    "    connection.commit()\n",
    "\n",
    "    cursor.close()\n",
    "\n",
    "# Close the connection to the MySQL server\n",
    "connection.close()"
   ]
  }
 ],
 "metadata": {
  "kernelspec": {
   "display_name": "Python 3",
   "language": "python",
   "name": "python3"
  },
  "language_info": {
   "codemirror_mode": {
    "name": "ipython",
    "version": 3
   },
   "file_extension": ".py",
   "mimetype": "text/x-python",
   "name": "python",
   "nbconvert_exporter": "python",
   "pygments_lexer": "ipython3",
   "version": "3.10.11"
  },
  "orig_nbformat": 4
 },
 "nbformat": 4,
 "nbformat_minor": 2
}
